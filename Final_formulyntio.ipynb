{
 "cells": [
  {
   "cell_type": "markdown",
   "id": "5a5fecee",
   "metadata": {},
   "source": [
    "# FormulaAI Hackathon 2022\n",
    "\n",
    "## Team Formulyntio"
   ]
  },
  {
   "cell_type": "code",
   "execution_count": 44,
   "id": "db374105",
   "metadata": {},
   "outputs": [],
   "source": [
    "import pandas as pd # import pandas\n",
    "\n",
    "# Reading the CSV file.\n",
    "df = pd.read_csv('input/weather.csv', low_memory=False)"
   ]
  },
  {
   "cell_type": "markdown",
   "id": "302a8caf",
   "metadata": {},
   "source": [
    "## Data cleaning and EDA\n",
    "\n",
    "The original dataset comes with 58 features which were generated during a session of a F1 2021 game. All of those features are essential for the game to run smoothly. But, however, our task was to create a weather prediction model and most of those features are useless and won't contribute anything to the accuracy of the model and need to be dropped from the dataset. Even if they don't cause the model to achieve worse result necessarily, the more features we have, the longer the training of the models will last. Same thing can be applied to the number of rows. That's why it's crucial to perform analysis and cleaning of the data. We decided to take the subset of the features we deemed was useful by taking into the consideration our personal experience with the game and by going through the documentation."
   ]
  },
  {
   "cell_type": "code",
   "execution_count": 45,
   "id": "f8ad626c",
   "metadata": {},
   "outputs": [
    {
     "data": {
      "text/plain": [
       "(3572328, 20)"
      ]
     },
     "execution_count": 45,
     "metadata": {},
     "output_type": "execute_result"
    }
   ],
   "source": [
    "df = df.filter(items=[\"M_SESSION_UID\",\"M_SESSION_TIME\",\"M_PLAYER_CAR_INDEX\",\"TIMESTAMP\",\"M_TRACK_TEMPERATURE\",\"M_FORECAST_ACCURACY\",\"M_AIR_TEMPERATURE\",\"M_NUM_WEATHER_FORECAST_SAMPLES\",\"M_TRACK_ID\",\"M_SESSION_TYPE\", \"M_SESSION_DURATION\", \"M_WEATHER_FORECAST_SAMPLES_M_SESSION_TYPE\", \"M_TIME_OFFSET\", \"M_WEATHER_FORECAST_SAMPLES_M_WEATHER\", \"M_WEATHER_FORECAST_SAMPLES_M_TRACK_TEMPERATURE\", \"M_TRACK_TEMPERATURE_CHANGE\", \"M_WEATHER_FORECAST_SAMPLES_M_AIR_TEMPERATURE\", \"M_AIR_TEMPERATURE_CHANGE\", \"M_RAIN_PERCENTAGE\", \"M_WEATHER\"])\n",
    "df.shape"
   ]
  },
  {
   "cell_type": "markdown",
   "id": "5823423c",
   "metadata": {},
   "source": [
    "We removed all missing values from the data because everytime we were missing data for both weather and rain percentage outputs so it would be impossible to use those rows in model creation and validation if the target values are missing."
   ]
  },
  {
   "cell_type": "code",
   "execution_count": 46,
   "id": "9b2968d4",
   "metadata": {},
   "outputs": [
    {
     "data": {
      "text/plain": [
       "(2598054, 20)"
      ]
     },
     "execution_count": 46,
     "metadata": {},
     "output_type": "execute_result"
    }
   ],
   "source": [
    "# removed nan and zero values\n",
    "df.dropna(inplace=True)\n",
    "df.shape"
   ]
  },
  {
   "cell_type": "markdown",
   "id": "008a7000",
   "metadata": {},
   "source": [
    "The data which had no forecast samples included in the rows was also removed for the same reason as the missing values, they provide no information. It turned out that all of the data which had 0 forecast samples was the data from time trials with **M_SESSION_TYPE** 13, because in time trials the game isn't making any predictions because the goal of that particular game mode is to see the fastest possible time a player can do on a track with all external factors out of the equation."
   ]
  },
  {
   "cell_type": "code",
   "execution_count": 47,
   "id": "a12e99aa",
   "metadata": {},
   "outputs": [
    {
     "data": {
      "text/plain": [
       "(1996446, 20)"
      ]
     },
     "execution_count": 47,
     "metadata": {},
     "output_type": "execute_result"
    }
   ],
   "source": [
    "df = df.loc[df['M_NUM_WEATHER_FORECAST_SAMPLES'] != 0]\n",
    "df.shape"
   ]
  },
  {
   "cell_type": "code",
   "execution_count": 211,
   "id": "3bc8eec8",
   "metadata": {},
   "outputs": [
    {
     "data": {
      "text/plain": [
       "(0, 20)"
      ]
     },
     "execution_count": 211,
     "metadata": {},
     "output_type": "execute_result"
    }
   ],
   "source": [
    "df.loc[df['M_SESSION_TYPE'] == 13].shape"
   ]
  },
  {
   "cell_type": "markdown",
   "id": "5efe7e78",
   "metadata": {},
   "source": [
    "### Exploring the the expected outputs"
   ]
  },
  {
   "cell_type": "code",
   "execution_count": 48,
   "id": "d51bcbbb",
   "metadata": {},
   "outputs": [],
   "source": [
    "import seaborn as sns"
   ]
  },
  {
   "cell_type": "code",
   "execution_count": 49,
   "id": "903afdd5",
   "metadata": {},
   "outputs": [
    {
     "data": {
      "text/plain": [
       "<AxesSubplot:xlabel='M_WEATHER_FORECAST_SAMPLES_M_WEATHER', ylabel='Count'>"
      ]
     },
     "execution_count": 49,
     "metadata": {},
     "output_type": "execute_result"
    },
    {
     "data": {
      "image/png": "[encoded data removed]",
      "text/plain": [
       "<Figure size 432x288 with 1 Axes>"
      ]
     },
     "metadata": {
      "needs_background": "light"
     },
     "output_type": "display_data"
    }
   ],
   "source": [
    "sns.histplot(x=df['M_WEATHER_FORECAST_SAMPLES_M_WEATHER'])"
   ]
  },
  {
   "cell_type": "code",
   "execution_count": 55,
   "id": "4ca2d0b0",
   "metadata": {},
   "outputs": [
    {
     "data": {
      "text/plain": [
       "(486, 20)"
      ]
     },
     "execution_count": 55,
     "metadata": {},
     "output_type": "execute_result"
    }
   ],
   "source": [
    "df[df['M_WEATHER_FORECAST_SAMPLES_M_WEATHER'] == 6].shape"
   ]
  },
  {
   "cell_type": "markdown",
   "id": "3ae48094",
   "metadata": {},
   "source": [
    "We can see the dataset isn't very balanced in terms of the output classes in terms of the **M_WEATHER_FORECAST_SAMPLES_M_WEATHER** variable, with the class **0 (sunny)** taking up the majority of the outputs. We also noticed that there were some rows which had the prediction set to class 6, which shouldn't exist because the documentation states that there are classes from 0 to 5. Even though it probably wouldn't make a major difference in the final predictions we are still removing those rows from the dataset as it is only 486 rows compared to a couple million."
   ]
  },
  {
   "cell_type": "code",
   "execution_count": 56,
   "id": "6de618a5",
   "metadata": {},
   "outputs": [
    {
     "data": {
      "text/plain": [
       "(1995960, 20)"
      ]
     },
     "execution_count": 56,
     "metadata": {},
     "output_type": "execute_result"
    }
   ],
   "source": [
    "df = df[df['M_WEATHER_FORECAST_SAMPLES_M_WEATHER'] != 6]\n",
    "df.shape"
   ]
  },
  {
   "cell_type": "code",
   "execution_count": 68,
   "id": "bd0ff04f",
   "metadata": {},
   "outputs": [
    {
     "data": {
      "text/plain": [
       "<AxesSubplot:xlabel='M_RAIN_PERCENTAGE', ylabel='count'>"
      ]
     },
     "execution_count": 68,
     "metadata": {},
     "output_type": "execute_result"
    },
    {
     "data": {
      "image/png": "[encoded data removed]",
      "text/plain": [
       "<Figure size 1080x720 with 1 Axes>"
      ]
     },
     "metadata": {
      "needs_background": "light"
     },
     "output_type": "display_data"
    }
   ],
   "source": [
    "import matplotlib.pyplot as plt\n",
    "\n",
    "fig, ax = plt.subplots(figsize=(15,10)) \n",
    "sns.countplot(x=df['M_RAIN_PERCENTAGE'], ax=ax)"
   ]
  },
  {
   "cell_type": "markdown",
   "id": "4c4dc16b",
   "metadata": {},
   "source": [
    "For the **M_RAIN_PERCENTAGE** variable we can see that the data is also extremely skewed and in this case all data seems to be within bounds. We won't be removing any rows here."
   ]
  },
  {
   "cell_type": "markdown",
   "id": "678ff404",
   "metadata": {},
   "source": [
    "### Duplicates for different players in the same session\n",
    "\n",
    "F1 2021 game offers a lot of different game modes, which also include online multiplayer games as well as split-screen. And as we potentionally have more than one player, we need to take into consideration that every player/car will provide a packet of his own. And that means that we will receive a lot of almost identical rows, differing only in the **M_PLAYER_CAR_INDEX** values, because they will send the same package at the same timestamp, with the same forecast, same session uid, etc. That's why we decided to remove duplicates with the subset checking if a row is a duplicate is **M_SESSION_UID, TIMESTAMP, M_PLAYER_CAR_INDEX, M_TIME_OFFSET**. These 4 variables provide a unique key for each row, 3 of them are the unique key for the dataset in the JSON format, as it was noted in the dataset documentation, but we needed to add an additional variable **M_TIME_OFFSET** because the JSON format has more than one weather forecast packet inside of it, and when JSONs were flattened to CSV, 1 JSON became more rows in CSV, and we needed a unique feature to differentiate the rows from the same JSON from one another. After we removed the duplicates, we only had a need for the **M_TIME_OFFSET** variable, as all of the other ones contained in the key provided no information which would benefit forecast prediction and less columns means that the training of the models should be faster."
   ]
  },
  {
   "cell_type": "code",
   "execution_count": 135,
   "id": "f10961b2",
   "metadata": {},
   "outputs": [
    {
     "data": {
      "text/plain": [
       "(260895, 17)"
      ]
     },
     "execution_count": 135,
     "metadata": {},
     "output_type": "execute_result"
    }
   ],
   "source": [
    "df_no_dup = df.drop_duplicates(subset =[\"M_SESSION_UID\", \"TIMESTAMP\", \"M_PLAYER_CAR_INDEX\", \"M_TIME_OFFSET\"],\n",
    "                     keep = \"first\", inplace = False)\n",
    "df_no_dup = df_no_dup.drop(columns=[\"M_SESSION_UID\", \"TIMESTAMP\", \"M_PLAYER_CAR_INDEX\"],inplace=False)\n",
    "df_no_dup.shape"
   ]
  },
  {
   "cell_type": "markdown",
   "id": "f260b071",
   "metadata": {},
   "source": [
    "### Correlation plot"
   ]
  },
  {
   "cell_type": "code",
   "execution_count": 138,
   "id": "84fe4935",
   "metadata": {},
   "outputs": [
    {
     "data": {
      "text/plain": [
       "<AxesSubplot:>"
      ]
     },
     "execution_count": 138,
     "metadata": {},
     "output_type": "execute_result"
    },
    {
     "data": {
      "image/png": "[encoded data removed]",
      "text/plain": [
       "<Figure size 720x720 with 2 Axes>"
      ]
     },
     "metadata": {
      "needs_background": "light"
     },
     "output_type": "display_data"
    }
   ],
   "source": [
    "import seaborn as sns\n",
    "import matplotlib.pyplot as plt\n",
    "\n",
    "fig, ax = plt.subplots(figsize=(10,10)) \n",
    "corr = df_no_dup.corr()\n",
    "sns.heatmap(corr, \n",
    "            xticklabels=corr.columns.values,\n",
    "            yticklabels=corr.columns.values,\n",
    "           ax=ax)"
   ]
  },
  {
   "cell_type": "markdown",
   "id": "2efd6866",
   "metadata": {},
   "source": [
    "## Classification"
   ]
  },
  {
   "cell_type": "code",
   "execution_count": 169,
   "id": "bf9354bf",
   "metadata": {},
   "outputs": [],
   "source": [
    "from sklearn.model_selection import train_test_split\n",
    "from sklearn.tree import DecisionTreeClassifier\n",
    "from sklearn.metrics import classification_report\n",
    "from sklearn.naive_bayes import GaussianNB\n",
    "from sklearn.svm import LinearSVC\n",
    "from sklearn.ensemble import RandomForestClassifier"
   ]
  },
  {
   "cell_type": "markdown",
   "id": "5f34cab0",
   "metadata": {},
   "source": [
    "### Classification without future prediction in the input"
   ]
  },
  {
   "cell_type": "code",
   "execution_count": 159,
   "id": "d97adc45",
   "metadata": {},
   "outputs": [
    {
     "name": "stdout",
     "output_type": "stream",
     "text": [
      "(260895, 17)\n"
     ]
    }
   ],
   "source": [
    "df_full = df_no_dup.copy()\n",
    "print(df_full.shape)\n",
    "\n",
    "X = df_full.loc[:, [\"M_WEATHER\", \"M_TRACK_TEMPERATURE\", \"M_FORECAST_ACCURACY\", \"M_AIR_TEMPERATURE\", \"M_TIME_OFFSET\", \"M_SESSION_TIME\"]]\n",
    "y = df_full.filter(items=[\"M_WEATHER_FORECAST_SAMPLES_M_WEATHER\"])\n",
    "\n",
    "x_train,x_test,y_train,y_test=train_test_split(X,y,test_size=0.15,random_state=2202)"
   ]
  },
  {
   "cell_type": "markdown",
   "id": "669e2a92",
   "metadata": {},
   "source": [
    "#### Decision tree"
   ]
  },
  {
   "cell_type": "code",
   "execution_count": 232,
   "id": "0a6ca266",
   "metadata": {},
   "outputs": [
    {
     "name": "stdout",
     "output_type": "stream",
     "text": [
      "              precision    recall  f1-score   support\n",
      "\n",
      "         0.0       1.00      1.00      1.00     24452\n",
      "         1.0       0.99      0.99      0.99     13531\n",
      "         2.0       1.00      1.00      1.00      1080\n",
      "         3.0       1.00      1.00      1.00        71\n",
      "         5.0       1.00      1.00      1.00         1\n",
      "\n",
      "    accuracy                           1.00     39135\n",
      "   macro avg       1.00      1.00      1.00     39135\n",
      "weighted avg       1.00      1.00      1.00     39135\n",
      "\n"
     ]
    }
   ],
   "source": [
    "decision_tree = DecisionTreeClassifier()\n",
    "decision_tree.fit(x_train,y_train)\n",
    "\n",
    "y_pred = decision_tree.predict(x_test)\n",
    "print(classification_report(y_test, y_pred))"
   ]
  },
  {
   "cell_type": "markdown",
   "id": "d279161b",
   "metadata": {},
   "source": [
    "#### Naive Bayes"
   ]
  },
  {
   "cell_type": "code",
   "execution_count": 165,
   "id": "7105ee4a",
   "metadata": {},
   "outputs": [
    {
     "name": "stderr",
     "output_type": "stream",
     "text": [
      "/opt/conda/lib/python3.6/site-packages/sklearn/utils/validation.py:63: DataConversionWarning: A column-vector y was passed when a 1d array was expected. Please change the shape of y to (n_samples, ), for example using ravel().\n",
      "  return f(*args, **kwargs)\n",
      "/opt/conda/lib/python3.6/site-packages/sklearn/metrics/_classification.py:1248: UndefinedMetricWarning: Recall and F-score are ill-defined and being set to 0.0 in labels with no true samples. Use `zero_division` parameter to control this behavior.\n",
      "  _warn_prf(average, modifier, msg_start, len(result))\n"
     ]
    },
    {
     "name": "stdout",
     "output_type": "stream",
     "text": [
      "              precision    recall  f1-score   support\n",
      "\n",
      "         0.0       0.77      0.83      0.80     24493\n",
      "         1.0       0.62      0.49      0.55     13475\n",
      "         2.0       0.34      0.52      0.42      1102\n",
      "         3.0       0.27      1.00      0.43        65\n",
      "         5.0       0.00      0.00      0.00         0\n",
      "\n",
      "    accuracy                           0.71     39135\n",
      "   macro avg       0.40      0.57      0.44     39135\n",
      "weighted avg       0.70      0.71      0.70     39135\n",
      "\n"
     ]
    },
    {
     "name": "stderr",
     "output_type": "stream",
     "text": [
      "/opt/conda/lib/python3.6/site-packages/sklearn/metrics/_classification.py:1248: UndefinedMetricWarning: Recall and F-score are ill-defined and being set to 0.0 in labels with no true samples. Use `zero_division` parameter to control this behavior.\n",
      "  _warn_prf(average, modifier, msg_start, len(result))\n",
      "/opt/conda/lib/python3.6/site-packages/sklearn/metrics/_classification.py:1248: UndefinedMetricWarning: Recall and F-score are ill-defined and being set to 0.0 in labels with no true samples. Use `zero_division` parameter to control this behavior.\n",
      "  _warn_prf(average, modifier, msg_start, len(result))\n"
     ]
    }
   ],
   "source": [
    "naive_bayes = GaussianNB()\n",
    "naive_bayes.fit(x_train,y_train)\n",
    "\n",
    "y_pred = naive_bayes.predict(x_test)\n",
    "print(classification_report(y_test, y_pred))"
   ]
  },
  {
   "cell_type": "markdown",
   "id": "3237ca0b",
   "metadata": {},
   "source": [
    "#### Support Vector Classifier"
   ]
  },
  {
   "cell_type": "code",
   "execution_count": 168,
   "id": "8f4451ed",
   "metadata": {},
   "outputs": [
    {
     "name": "stderr",
     "output_type": "stream",
     "text": [
      "/opt/conda/lib/python3.6/site-packages/sklearn/utils/validation.py:63: DataConversionWarning: A column-vector y was passed when a 1d array was expected. Please change the shape of y to (n_samples, ), for example using ravel().\n",
      "  return f(*args, **kwargs)\n",
      "/opt/conda/lib/python3.6/site-packages/sklearn/svm/_base.py:986: ConvergenceWarning: Liblinear failed to converge, increase the number of iterations.\n",
      "  \"the number of iterations.\", ConvergenceWarning)\n",
      "/opt/conda/lib/python3.6/site-packages/sklearn/metrics/_classification.py:1248: UndefinedMetricWarning: Precision and F-score are ill-defined and being set to 0.0 in labels with no predicted samples. Use `zero_division` parameter to control this behavior.\n",
      "  _warn_prf(average, modifier, msg_start, len(result))\n",
      "/opt/conda/lib/python3.6/site-packages/sklearn/metrics/_classification.py:1248: UndefinedMetricWarning: Precision and F-score are ill-defined and being set to 0.0 in labels with no predicted samples. Use `zero_division` parameter to control this behavior.\n",
      "  _warn_prf(average, modifier, msg_start, len(result))\n"
     ]
    },
    {
     "name": "stdout",
     "output_type": "stream",
     "text": [
      "              precision    recall  f1-score   support\n",
      "\n",
      "         0.0       0.65      0.99      0.78     24493\n",
      "         1.0       0.55      0.07      0.12     13475\n",
      "         2.0       1.00      0.00      0.01      1102\n",
      "         3.0       0.00      0.00      0.00        65\n",
      "\n",
      "    accuracy                           0.64     39135\n",
      "   macro avg       0.55      0.27      0.23     39135\n",
      "weighted avg       0.62      0.64      0.53     39135\n",
      "\n"
     ]
    },
    {
     "name": "stderr",
     "output_type": "stream",
     "text": [
      "/opt/conda/lib/python3.6/site-packages/sklearn/metrics/_classification.py:1248: UndefinedMetricWarning: Precision and F-score are ill-defined and being set to 0.0 in labels with no predicted samples. Use `zero_division` parameter to control this behavior.\n",
      "  _warn_prf(average, modifier, msg_start, len(result))\n"
     ]
    }
   ],
   "source": [
    "svm = LinearSVC()\n",
    "svm.fit(x_train,y_train)\n",
    "\n",
    "y_pred = svm.predict(x_test)\n",
    "print(classification_report(y_test, y_pred))"
   ]
  },
  {
   "cell_type": "markdown",
   "id": "bd4d58a3",
   "metadata": {},
   "source": [
    "### Classification using the in-game engine prediction features"
   ]
  },
  {
   "cell_type": "code",
   "execution_count": 230,
   "id": "a6a8feb6",
   "metadata": {},
   "outputs": [
    {
     "name": "stdout",
     "output_type": "stream",
     "text": [
      "(260895, 17)\n",
      "Index(['M_SESSION_TIME', 'M_TRACK_TEMPERATURE', 'M_FORECAST_ACCURACY',\n",
      "       'M_AIR_TEMPERATURE', 'M_NUM_WEATHER_FORECAST_SAMPLES', 'M_TRACK_ID',\n",
      "       'M_SESSION_TYPE', 'M_SESSION_DURATION',\n",
      "       'M_WEATHER_FORECAST_SAMPLES_M_SESSION_TYPE', 'M_TIME_OFFSET',\n",
      "       'M_WEATHER_FORECAST_SAMPLES_M_TRACK_TEMPERATURE',\n",
      "       'M_TRACK_TEMPERATURE_CHANGE',\n",
      "       'M_WEATHER_FORECAST_SAMPLES_M_AIR_TEMPERATURE',\n",
      "       'M_AIR_TEMPERATURE_CHANGE', 'M_WEATHER'],\n",
      "      dtype='object')\n"
     ]
    }
   ],
   "source": [
    "df_full = df_no_dup.copy()\n",
    "print(df_full.shape)\n",
    "\n",
    "X = df_full.drop(columns=[\"M_WEATHER_FORECAST_SAMPLES_M_WEATHER\", \"M_RAIN_PERCENTAGE\"],inplace=False)\n",
    "y = df_full.filter(items=[\"M_WEATHER_FORECAST_SAMPLES_M_WEATHER\"])\n",
    "print(X.columns)\n",
    "x_train,x_test,y_train,y_test=train_test_split(X,y,test_size=0.15,random_state=100)"
   ]
  },
  {
   "cell_type": "markdown",
   "id": "9a19785c",
   "metadata": {},
   "source": [
    "#### Decision tree"
   ]
  },
  {
   "cell_type": "code",
   "execution_count": 235,
   "id": "223b794f",
   "metadata": {},
   "outputs": [
    {
     "name": "stdout",
     "output_type": "stream",
     "text": [
      "              precision    recall  f1-score   support\n",
      "\n",
      "         0.0       1.00      1.00      1.00     24452\n",
      "         1.0       0.99      0.99      0.99     13531\n",
      "         2.0       1.00      1.00      1.00      1080\n",
      "         3.0       1.00      1.00      1.00        71\n",
      "         5.0       1.00      1.00      1.00         1\n",
      "\n",
      "    accuracy                           1.00     39135\n",
      "   macro avg       1.00      1.00      1.00     39135\n",
      "weighted avg       1.00      1.00      1.00     39135\n",
      "\n"
     ]
    }
   ],
   "source": [
    "decision_tree_cls = DecisionTreeClassifier()\n",
    "decision_tree_cls.fit(x_train,y_train)\n",
    "\n",
    "y_pred = decision_tree_cls.predict(x_test)\n",
    "print(classification_report(y_test, y_pred))"
   ]
  },
  {
   "cell_type": "markdown",
   "id": "b0e571c7",
   "metadata": {},
   "source": [
    "#### Naive Bayes"
   ]
  },
  {
   "cell_type": "code",
   "execution_count": 174,
   "id": "4e6eb1b3",
   "metadata": {},
   "outputs": [
    {
     "name": "stderr",
     "output_type": "stream",
     "text": [
      "/opt/conda/lib/python3.6/site-packages/sklearn/utils/validation.py:63: DataConversionWarning: A column-vector y was passed when a 1d array was expected. Please change the shape of y to (n_samples, ), for example using ravel().\n",
      "  return f(*args, **kwargs)\n"
     ]
    },
    {
     "name": "stdout",
     "output_type": "stream",
     "text": [
      "              precision    recall  f1-score   support\n",
      "\n",
      "         0.0       0.94      0.81      0.87     24195\n",
      "         1.0       0.70      0.83      0.76     13773\n",
      "         2.0       0.45      0.87      0.59      1092\n",
      "         3.0       1.00      1.00      1.00        75\n",
      "\n",
      "    accuracy                           0.82     39135\n",
      "   macro avg       0.77      0.88      0.81     39135\n",
      "weighted avg       0.84      0.82      0.82     39135\n",
      "\n"
     ]
    }
   ],
   "source": [
    "naive_bayes = GaussianNB()\n",
    "naive_bayes.fit(x_train,y_train)\n",
    "\n",
    "y_pred = naive_bayes.predict(x_test)\n",
    "print(classification_report(y_test, y_pred))"
   ]
  },
  {
   "cell_type": "markdown",
   "id": "a750ee83",
   "metadata": {},
   "source": [
    "#### Support Vector Classifier"
   ]
  },
  {
   "cell_type": "code",
   "execution_count": 175,
   "id": "f3d58b2f",
   "metadata": {},
   "outputs": [
    {
     "name": "stderr",
     "output_type": "stream",
     "text": [
      "/opt/conda/lib/python3.6/site-packages/sklearn/utils/validation.py:63: DataConversionWarning: A column-vector y was passed when a 1d array was expected. Please change the shape of y to (n_samples, ), for example using ravel().\n",
      "  return f(*args, **kwargs)\n",
      "/opt/conda/lib/python3.6/site-packages/sklearn/svm/_base.py:986: ConvergenceWarning: Liblinear failed to converge, increase the number of iterations.\n",
      "  \"the number of iterations.\", ConvergenceWarning)\n",
      "/opt/conda/lib/python3.6/site-packages/sklearn/metrics/_classification.py:1248: UndefinedMetricWarning: Recall and F-score are ill-defined and being set to 0.0 in labels with no true samples. Use `zero_division` parameter to control this behavior.\n",
      "  _warn_prf(average, modifier, msg_start, len(result))\n",
      "/opt/conda/lib/python3.6/site-packages/sklearn/metrics/_classification.py:1248: UndefinedMetricWarning: Recall and F-score are ill-defined and being set to 0.0 in labels with no true samples. Use `zero_division` parameter to control this behavior.\n",
      "  _warn_prf(average, modifier, msg_start, len(result))\n"
     ]
    },
    {
     "name": "stdout",
     "output_type": "stream",
     "text": [
      "              precision    recall  f1-score   support\n",
      "\n",
      "         0.0       0.99      0.78      0.87     24195\n",
      "         1.0       0.73      0.97      0.83     13773\n",
      "         2.0       0.64      0.32      0.43      1092\n",
      "         3.0       1.00      1.00      1.00        75\n",
      "         5.0       0.00      0.00      0.00         0\n",
      "\n",
      "    accuracy                           0.83     39135\n",
      "   macro avg       0.67      0.61      0.63     39135\n",
      "weighted avg       0.89      0.83      0.84     39135\n",
      "\n"
     ]
    },
    {
     "name": "stderr",
     "output_type": "stream",
     "text": [
      "/opt/conda/lib/python3.6/site-packages/sklearn/metrics/_classification.py:1248: UndefinedMetricWarning: Recall and F-score are ill-defined and being set to 0.0 in labels with no true samples. Use `zero_division` parameter to control this behavior.\n",
      "  _warn_prf(average, modifier, msg_start, len(result))\n"
     ]
    }
   ],
   "source": [
    "svm = LinearSVC()\n",
    "svm.fit(x_train,y_train)\n",
    "\n",
    "y_pred = svm.predict(x_test)\n",
    "print(classification_report(y_test, y_pred))"
   ]
  },
  {
   "cell_type": "markdown",
   "id": "77b2ed3c",
   "metadata": {},
   "source": [
    "## Regression"
   ]
  },
  {
   "cell_type": "code",
   "execution_count": 184,
   "id": "5d82a22b",
   "metadata": {},
   "outputs": [],
   "source": [
    "import sklearn\n",
    "from sklearn.tree import DecisionTreeRegressor \n",
    "from sklearn.metrics import mean_absolute_error\n",
    "from sklearn.ensemble import RandomForestRegressor\n",
    "from sklearn import linear_model"
   ]
  },
  {
   "cell_type": "markdown",
   "id": "852085bd",
   "metadata": {},
   "source": [
    "### Regression without future prediction in the input"
   ]
  },
  {
   "cell_type": "code",
   "execution_count": 180,
   "id": "bda50ccf",
   "metadata": {},
   "outputs": [
    {
     "name": "stdout",
     "output_type": "stream",
     "text": [
      "(260895, 17)\n"
     ]
    }
   ],
   "source": [
    "df_full = df_no_dup.copy()\n",
    "print(df_full.shape)\n",
    "\n",
    "X = df_full[[\"M_WEATHER\", \"M_TRACK_TEMPERATURE\", \"M_FORECAST_ACCURACY\", \"M_AIR_TEMPERATURE\", \"M_TIME_OFFSET\", \"M_TRACK_ID\"]]\n",
    "y = df_full.filter(items=[\"M_RAIN_PERCENTAGE\"])\n",
    "\n",
    "x_train,x_test,y_train,y_test=train_test_split(X,y,test_size=0.15)"
   ]
  },
  {
   "cell_type": "markdown",
   "id": "cfc714e8",
   "metadata": {},
   "source": [
    "#### Decision tree"
   ]
  },
  {
   "cell_type": "code",
   "execution_count": 234,
   "id": "60f8f467",
   "metadata": {},
   "outputs": [
    {
     "name": "stdout",
     "output_type": "stream",
     "text": [
      "0.004420595374984029\n",
      "R-squared score: 0.9856404585137439\n"
     ]
    }
   ],
   "source": [
    "decision_tree_reg = DecisionTreeRegressor(random_state = 2202)\n",
    "decision_tree_reg.fit(x_train,y_train)\n",
    "pred = decision_tree_reg.predict(x_test)\n",
    "print(mean_absolute_error(y_test,pred))\n",
    "print(\"R-squared score:\",decision_tree_reg.score(x_test,y_test))"
   ]
  },
  {
   "cell_type": "markdown",
   "id": "7e4f6379",
   "metadata": {},
   "source": [
    "#### Lasso regression"
   ]
  },
  {
   "cell_type": "code",
   "execution_count": 189,
   "id": "6d6bd41b",
   "metadata": {},
   "outputs": [
    {
     "name": "stdout",
     "output_type": "stream",
     "text": [
      "2.6626860481993613\n",
      "R-squared score: 0.370277883229746\n"
     ]
    }
   ],
   "source": [
    "clf = linear_model.Lasso(alpha=0.1)\n",
    "clf.fit(x_train,y_train)\n",
    "pred = clf.predict(x_test)\n",
    "print(mean_absolute_error(y_test,pred))\n",
    "print(\"R-squared score:\",clf.score(x_test,y_test))"
   ]
  },
  {
   "cell_type": "markdown",
   "id": "ec98a0a8",
   "metadata": {},
   "source": [
    "#### Random forest regressor"
   ]
  },
  {
   "cell_type": "code",
   "execution_count": 190,
   "id": "2f62811d",
   "metadata": {},
   "outputs": [
    {
     "name": "stderr",
     "output_type": "stream",
     "text": [
      "/opt/conda/lib/python3.6/site-packages/ipykernel_launcher.py:2: DataConversionWarning: A column-vector y was passed when a 1d array was expected. Please change the shape of y to (n_samples,), for example using ravel().\n",
      "  \n"
     ]
    },
    {
     "name": "stdout",
     "output_type": "stream",
     "text": [
      "0.41372682682769946\n",
      "score : 0.9403020522519664\n"
     ]
    }
   ],
   "source": [
    "rf = RandomForestRegressor()\n",
    "rf.fit(x_train,y_train)\n",
    "pred = rf.predict(x_test)\n",
    "print(mean_absolute_error(y_test,pred))\n",
    "print(\"score :\",dt.score(x_test,y_test))"
   ]
  },
  {
   "cell_type": "markdown",
   "id": "fbe075c1",
   "metadata": {},
   "source": [
    "### Regression using the in-game engine prediction features"
   ]
  },
  {
   "cell_type": "code",
   "execution_count": 206,
   "id": "b23ff11d",
   "metadata": {},
   "outputs": [
    {
     "name": "stdout",
     "output_type": "stream",
     "text": [
      "(260895, 17)\n"
     ]
    }
   ],
   "source": [
    "df_full = df_no_dup.copy()\n",
    "print(df_full.shape)\n",
    "\n",
    "X = df_full.drop(columns=[\"M_WEATHER_FORECAST_SAMPLES_M_WEATHER\", \"M_RAIN_PERCENTAGE\"], inplace=False)\n",
    "y = df_full.filter(items=[\"M_RAIN_PERCENTAGE\"])\n",
    "\n",
    "x_train,x_test,y_train,y_test=train_test_split(X,y,test_size=0.15)"
   ]
  },
  {
   "cell_type": "markdown",
   "id": "88fc9432",
   "metadata": {},
   "source": [
    "#### Decision tree"
   ]
  },
  {
   "cell_type": "code",
   "execution_count": 207,
   "id": "858f48eb",
   "metadata": {},
   "outputs": [
    {
     "name": "stdout",
     "output_type": "stream",
     "text": [
      "0.05676610340060389\n",
      "R-squared score: 0.9966041363386061\n"
     ]
    }
   ],
   "source": [
    "dt= DecisionTreeRegressor(random_state = 2202)\n",
    "dt.fit(x_train,y_train)\n",
    "pred = dt.predict(x_test)\n",
    "print(mean_absolute_error(y_test,pred))\n",
    "print(\"R-squared score:\",dt.score(x_test,y_test))"
   ]
  },
  {
   "cell_type": "markdown",
   "id": "c405fca6",
   "metadata": {},
   "source": [
    "#### Lasso regression"
   ]
  },
  {
   "cell_type": "code",
   "execution_count": 208,
   "id": "c973c1e1",
   "metadata": {},
   "outputs": [
    {
     "name": "stdout",
     "output_type": "stream",
     "text": [
      "2.357181227860212\n",
      "R-squared score: 0.5574001463229383\n"
     ]
    },
    {
     "name": "stderr",
     "output_type": "stream",
     "text": [
      "/opt/conda/lib/python3.6/site-packages/sklearn/linear_model/_coordinate_descent.py:532: ConvergenceWarning: Objective did not converge. You might want to increase the number of iterations. Duality gap: 10561.724663010333, tolerance: 738.7578809302843\n",
      "  positive)\n"
     ]
    }
   ],
   "source": [
    "clf = linear_model.Lasso(alpha=0.1)\n",
    "clf.fit(x_train,y_train)\n",
    "pred = clf.predict(x_test)\n",
    "print(mean_absolute_error(y_test,pred))\n",
    "print(\"R-squared score:\",clf.score(x_test,y_test))"
   ]
  },
  {
   "cell_type": "markdown",
   "id": "7b5fbadd",
   "metadata": {},
   "source": [
    "#### Random forest regressor"
   ]
  },
  {
   "cell_type": "code",
   "execution_count": 209,
   "id": "19331c0c",
   "metadata": {},
   "outputs": [
    {
     "name": "stderr",
     "output_type": "stream",
     "text": [
      "/opt/conda/lib/python3.6/site-packages/ipykernel_launcher.py:2: DataConversionWarning: A column-vector y was passed when a 1d array was expected. Please change the shape of y to (n_samples,), for example using ravel().\n",
      "  \n"
     ]
    },
    {
     "name": "stdout",
     "output_type": "stream",
     "text": [
      "0.06526647546118068\n",
      "score : 0.9966041363386061\n"
     ]
    }
   ],
   "source": [
    "rf = RandomForestRegressor()\n",
    "rf.fit(x_train,y_train)\n",
    "pred = rf.predict(x_test)\n",
    "print(mean_absolute_error(y_test,pred))\n",
    "print(\"score :\",dt.score(x_test,y_test))"
   ]
  },
  {
   "cell_type": "markdown",
   "id": "a9b94482",
   "metadata": {},
   "source": [
    "## Generating predictions for multiple points in the future"
   ]
  },
  {
   "cell_type": "code",
   "execution_count": 308,
   "id": "9642b089",
   "metadata": {},
   "outputs": [],
   "source": [
    "def multiple_prediction(row, model_reg, model_cls):\n",
    "    predictions = {}\n",
    "    for offset in [5,10,15,30,60]:\n",
    "        row[\"M_TIME_OFFSET\"] = offset\n",
    "        temp_row = row.copy()\n",
    "        temp_row = temp_row.ravel().reshape(1, -1)\n",
    "        pred_reg = model_reg.predict(temp_row)\n",
    "        pred_cls = model_cls.predict(temp_row)\n",
    "        predictions[str(offset)] = {'type':pred_cls[0], 'rain_percentage':pred_reg[0]}\n",
    "    return predictions\n",
    "      "
   ]
  },
  {
   "cell_type": "code",
   "execution_count": 309,
   "id": "c404a68b",
   "metadata": {},
   "outputs": [
    {
     "data": {
      "text/plain": [
       "{'5': {'type': 0.0, 'rain_percentage': 0.0},\n",
       " '10': {'type': 0.0, 'rain_percentage': 0.0},\n",
       " '15': {'type': 0.0, 'rain_percentage': 0.0},\n",
       " '30': {'type': 0.0, 'rain_percentage': 0.0},\n",
       " '60': {'type': 0.0, 'rain_percentage': 0.0}}"
      ]
     },
     "execution_count": 309,
     "metadata": {},
     "output_type": "execute_result"
    }
   ],
   "source": [
    "multiple_prediction(x_test.iloc[10].copy(), decision_tree_reg, decision_tree_cls)"
   ]
  },
  {
   "cell_type": "markdown",
   "id": "73050941",
   "metadata": {},
   "source": [
    "## Exporting models to GraphWiz"
   ]
  },
  {
   "cell_type": "code",
   "execution_count": 311,
   "id": "a06d4806",
   "metadata": {},
   "outputs": [],
   "source": [
    "from sklearn import tree\n",
    "tree.export_graphviz(decision_tree_reg, out_file='decision_tree_reg.dot')\n",
    "tree.export_graphviz(decision_tree_cls, out_file='decision_tree_cls.dot')"
   ]
  },
  {
   "cell_type": "markdown",
   "id": "dbe56a44",
   "metadata": {},
   "source": [
    "## API info"
   ]
  },
  {
   "cell_type": "markdown",
   "id": "863c7131",
   "metadata": {},
   "source": [
    "The API can be found here http://141.144.224.177:5000/predict and by sending a POST request containing the 14 rows we kept, you can predict your data without even running a single Jupyter cell."
   ]
  }
 ],
 "metadata": {
  "kernelspec": {
   "display_name": "Python 3",
   "language": "python",
   "name": "python3"
  },
  "language_info": {
   "codemirror_mode": {
    "name": "ipython",
    "version": 3
   },
   "file_extension": ".py",
   "mimetype": "text/x-python",
   "name": "python",
   "nbconvert_exporter": "python",
   "pygments_lexer": "ipython3",
   "version": "3.6.10"
  }
 },
 "nbformat": 4,
 "nbformat_minor": 5
}
